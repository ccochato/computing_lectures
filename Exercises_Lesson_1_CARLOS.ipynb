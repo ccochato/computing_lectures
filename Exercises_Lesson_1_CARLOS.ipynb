{
 "cells": [
  {
   "cell_type": "markdown",
   "metadata": {},
   "source": [
    "# Exercises Lesson 1"
   ]
  },
  {
   "cell_type": "markdown",
   "metadata": {},
   "source": [
    "Name: Carlos Cocha"
   ]
  },
  {
   "cell_type": "code",
   "execution_count": 1,
   "metadata": {},
   "outputs": [],
   "source": [
    "import numpy as np"
   ]
  },
  {
   "cell_type": "code",
   "execution_count": 2,
   "metadata": {},
   "outputs": [],
   "source": [
    "#Loading dataset\n",
    "data_read = np.loadtxt('/home/nucphys/Downloads/ISP/Python/TData/T_Alicante_EM.csv', delimiter=',', skiprows=1)\n",
    "month = np.array([\"January\",\"February\",\"March\",\"April\",\"May\",\"June\",\"July\",\"August\",\"September\",\"October\",\"November\",\"December\"])"
   ]
  },
  {
   "cell_type": "markdown",
   "metadata": {},
   "source": [
    "### Exercise (1.1) How would you compute minimum, maximum and average March temperatures for the given dataset?"
   ]
  },
  {
   "cell_type": "code",
   "execution_count": 3,
   "metadata": {},
   "outputs": [],
   "source": [
    "#The first column of the dataset are the years\n",
    "years = data_read[:, 0]"
   ]
  },
  {
   "cell_type": "code",
   "execution_count": 4,
   "metadata": {},
   "outputs": [],
   "source": [
    "#The remaining columns are the temperatures\n",
    "temps = data_read[:, 1:] "
   ]
  },
  {
   "cell_type": "code",
   "execution_count": 5,
   "metadata": {},
   "outputs": [
    {
     "name": "stdout",
     "output_type": "stream",
     "text": [
      "Minimum = 12.42 °C; Maximun =  16.76 °C; Average = 14.09 °C\n"
     ]
    }
   ],
   "source": [
    "month_index = 2 # March\n",
    "month_temps = temps[:,month_index] # temperatures of March\n",
    "print('Minimum =', month_temps.min(),'°C; Maximun = ', np.max(month_temps),'°C; Average =', round(np.mean(month_temps),2), '°C')"
   ]
  },
  {
   "cell_type": "markdown",
   "metadata": {},
   "source": [
    "or in a more elegant way:"
   ]
  },
  {
   "cell_type": "code",
   "execution_count": 6,
   "metadata": {},
   "outputs": [
    {
     "name": "stdout",
     "output_type": "stream",
     "text": [
      "Minimum March temperature: 12.42 °C\n",
      "Maximum March temperature: 16.76 °C\n",
      "Average March temperature: 14.09 °C\n"
     ]
    }
   ],
   "source": [
    "print('Minimum', month[month_index],'temperature:', np.min(temps[:,month_index]), '°C')\n",
    "print('Maximum', month[month_index], 'temperature:', np.max(temps[:,month_index]), '°C')\n",
    "print('Average', month[month_index], 'temperature:', round(temps[:,month_index].mean(),2), '°C')"
   ]
  },
  {
   "cell_type": "markdown",
   "metadata": {},
   "source": [
    "### Exercise (1.2): Check the info on the numpy mean function and compute the average monthly temperatures and the average annual temperatures for the given dataset (Hint: axis option)"
   ]
  },
  {
   "cell_type": "code",
   "execution_count": 7,
   "metadata": {},
   "outputs": [],
   "source": [
    "np.mean?"
   ]
  },
  {
   "cell_type": "code",
   "execution_count": 8,
   "metadata": {},
   "outputs": [
    {
     "data": {
      "text/plain": [
       "18.38342524509804"
      ]
     },
     "execution_count": 8,
     "metadata": {},
     "output_type": "execute_result"
    }
   ],
   "source": [
    "# Mean of all the temperatures\n",
    "temps.mean() "
   ]
  },
  {
   "cell_type": "code",
   "execution_count": 9,
   "metadata": {},
   "outputs": [
    {
     "data": {
      "text/plain": [
       "array([11.94933824, 12.49007353, 14.08683824, 16.19860294, 19.095     ,\n",
       "       22.74375   , 25.74705882, 26.15955882, 23.79691176, 19.76845588,\n",
       "       15.67661765, 12.88889706])"
      ]
     },
     "execution_count": 9,
     "metadata": {},
     "output_type": "execute_result"
    }
   ],
   "source": [
    "# Average montly temperature\n",
    "monthly_meanT = temps.mean(axis = 0) \n",
    "monthly_meanT"
   ]
  },
  {
   "cell_type": "code",
   "execution_count": 10,
   "metadata": {},
   "outputs": [
    {
     "data": {
      "text/plain": [
       "array([17.1425    , 16.97      , 16.985     , 16.86083333, 17.03166667,\n",
       "       17.00666667, 17.33666667, 17.63333333, 16.77333333, 17.17416667,\n",
       "       16.955     , 17.15666667, 17.25416667, 17.16666667, 17.16666667,\n",
       "       17.31666667, 17.3775    , 17.34583333, 17.07583333, 17.01583333,\n",
       "       16.85833333, 17.14166667, 17.23083333, 16.88916667, 17.17416667,\n",
       "       17.18583333, 17.37916667, 17.44583333, 17.11583333, 17.49083333,\n",
       "       17.24      , 17.305     , 17.61083333, 17.5425    , 17.4675    ,\n",
       "       17.4125    , 17.615     , 17.40166667, 17.49583333, 17.435     ,\n",
       "       17.67583333, 17.58916667, 17.3775    , 17.7175    , 17.6625    ,\n",
       "       17.59333333, 17.37083333, 17.56      , 17.5325    , 17.84583333,\n",
       "       17.61666667, 17.50666667, 18.03666667, 17.3475    , 17.695     ,\n",
       "       18.38833333, 17.87916667, 17.61833333, 18.21666667, 17.51916667,\n",
       "       17.74083333, 17.90583333, 17.95083333, 17.82333333, 18.23916667,\n",
       "       17.925     , 18.07083333, 18.32916667, 18.4475    , 18.1875    ,\n",
       "       18.12583333, 17.88916667, 18.32333333, 18.155     , 18.57083333,\n",
       "       18.30083333, 18.0125    , 18.45      , 18.6625    , 18.4825    ,\n",
       "       18.48416667, 18.58083333, 18.445     , 18.33      , 18.68666667,\n",
       "       18.98166667, 18.38666667, 18.88416667, 19.06916667, 19.16      ,\n",
       "       18.99083333, 18.91083333, 19.13      , 18.97      , 19.40833333,\n",
       "       19.31166667, 19.03666667, 19.03333333, 18.99333333, 19.08666667,\n",
       "       19.24083333, 19.295     , 19.39666667, 19.39916667, 19.62      ,\n",
       "       19.9       , 19.61916667, 19.62083333, 19.5125    , 19.70166667,\n",
       "       19.69416667, 19.7225    , 19.62416667, 19.375     , 19.5625    ,\n",
       "       19.67583333, 19.8625    , 19.68083333, 19.6475    , 20.22416667,\n",
       "       20.095     , 20.2475    , 20.01083333, 20.04416667, 19.82166667,\n",
       "       19.89166667, 20.05833333, 20.53083333, 20.43666667, 20.365     ,\n",
       "       20.60666667, 20.30083333, 20.16333333, 20.54416667, 20.285     ,\n",
       "       19.965     ])"
      ]
     },
     "execution_count": 10,
     "metadata": {},
     "output_type": "execute_result"
    }
   ],
   "source": [
    "# Average annual temperatures\n",
    "anual_meanT = temps.mean(axis = 1)\n",
    "anual_meanT"
   ]
  },
  {
   "cell_type": "markdown",
   "metadata": {},
   "source": [
    "### Exercise (1.3): Get the maximum and minimum monthly temperatures for year 2000 and at what months did these temperatures occur."
   ]
  },
  {
   "cell_type": "code",
   "execution_count": 11,
   "metadata": {},
   "outputs": [],
   "source": [
    "# Check where is located the year 2000\n",
    "index = np.where(years == 2000.0)[0][0]"
   ]
  },
  {
   "cell_type": "code",
   "execution_count": 12,
   "metadata": {},
   "outputs": [],
   "source": [
    "# Minimun and maximum monthly temperatures\n",
    "T_2000_min = temps[index, :].min()\n",
    "T_2000_max = temps[index, :].max()"
   ]
  },
  {
   "cell_type": "code",
   "execution_count": 13,
   "metadata": {},
   "outputs": [],
   "source": [
    "# Check where is located the maximum and minimum monthly temperatures\n",
    "T_2000_month_min = temps[index, :].argmin()\n",
    "T_2000_month_max = temps[index, :].argmax()"
   ]
  },
  {
   "cell_type": "code",
   "execution_count": 14,
   "metadata": {},
   "outputs": [
    {
     "name": "stdout",
     "output_type": "stream",
     "text": [
      "The month with the minimun temperature in 2000 is January : 10.92 °C\n",
      "The month with the maximun temperature in 2000 is July : 24.63 °C\n"
     ]
    }
   ],
   "source": [
    "print('The month with the minimun temperature in 2000 is', month[T_2000_month_min], ':', str(T_2000_min), '°C')\n",
    "print('The month with the maximun temperature in 2000 is', month[T_2000_month_max], ':', str(T_2000_max), '°C')"
   ]
  }
 ],
 "metadata": {
  "kernelspec": {
   "display_name": "Python 3",
   "language": "python",
   "name": "python3"
  },
  "language_info": {
   "codemirror_mode": {
    "name": "ipython",
    "version": 3
   },
   "file_extension": ".py",
   "mimetype": "text/x-python",
   "name": "python",
   "nbconvert_exporter": "python",
   "pygments_lexer": "ipython3",
   "version": "3.8.5"
  }
 },
 "nbformat": 4,
 "nbformat_minor": 4
}
