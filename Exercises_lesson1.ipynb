{
 "cells": [
  {
   "cell_type": "markdown",
   "metadata": {},
   "source": [
    "# Exercises Lesson 1"
   ]
  },
  {
   "cell_type": "markdown",
   "metadata": {},
   "source": [
    "Name: Carlos Cocha"
   ]
  },
  {
   "cell_type": "markdown",
   "metadata": {},
   "source": [
    "### Exercise (1.1) How would you compute minimum, maximum and average March temperatures for the given dataset?"
   ]
  },
  {
   "cell_type": "code",
   "execution_count": 77,
   "metadata": {},
   "outputs": [],
   "source": [
    "import numpy as np"
   ]
  },
  {
   "cell_type": "code",
   "execution_count": 78,
   "metadata": {},
   "outputs": [],
   "source": [
    "data_read = np.loadtxt('/home/nucphys/Downloads/ISP/Python/TData/T_Ajjacio_EM.csv', delimiter=',', skiprows=1)"
   ]
  },
  {
   "cell_type": "code",
   "execution_count": 79,
   "metadata": {},
   "outputs": [],
   "source": [
    "month=np.array([\"January\",\"February\",\"March\",\"April\",\"May\",\"June\",\"July\",\"August\",\"September\",\"October\",\"November\",\"December\"])"
   ]
  },
  {
   "cell_type": "code",
   "execution_count": 80,
   "metadata": {},
   "outputs": [
    {
     "data": {
      "text/plain": [
       "(136, 13)"
      ]
     },
     "execution_count": 80,
     "metadata": {},
     "output_type": "execute_result"
    }
   ],
   "source": [
    "data_read.shape"
   ]
  },
  {
   "cell_type": "code",
   "execution_count": 81,
   "metadata": {},
   "outputs": [],
   "source": [
    "years= data_read[:,0]"
   ]
  },
  {
   "cell_type": "code",
   "execution_count": 82,
   "metadata": {},
   "outputs": [],
   "source": [
    "temps=data_read[:,1:]"
   ]
  },
  {
   "cell_type": "code",
   "execution_count": 83,
   "metadata": {},
   "outputs": [
    {
     "name": "stdout",
     "output_type": "stream",
     "text": [
      "Minimum= 9.59 ; Maximun=  13.81 ; Average= 11.37625\n"
     ]
    }
   ],
   "source": [
    "month_index=2\n",
    "month_temps= temps[:,month_index]\n",
    "print(\"Minimum=\", month_temps.min(),\"; Maximun= \", np.max(month_temps),\"; Average=\", np.mean(month_temps))"
   ]
  },
  {
   "cell_type": "markdown",
   "metadata": {},
   "source": [
    "or in a more elegant way:"
   ]
  },
  {
   "cell_type": "code",
   "execution_count": 84,
   "metadata": {},
   "outputs": [
    {
     "name": "stdout",
     "output_type": "stream",
     "text": [
      "Minimum March temperature: 9.59\n",
      "Maximum March temperature: 13.81\n",
      "Average March temperature: 11.38\n"
     ]
    }
   ],
   "source": [
    "print('Minimum', month[month_index],'temperature:', np.min(temps[:,month_index]))\n",
    "print('Maximum', month[month_index], 'temperature:', np.max(temps[:,month_index]))\n",
    "print('Average', month[month_index], 'temperature:', round(temps[:,month_index].mean(),2))"
   ]
  },
  {
   "cell_type": "markdown",
   "metadata": {},
   "source": [
    "### Exercise (1.2): Check the info on the numpy mean function and compute the average monthly temperatures and the average annual temperatures for the given dataset (Hint: axis option)"
   ]
  },
  {
   "cell_type": "code",
   "execution_count": 85,
   "metadata": {},
   "outputs": [],
   "source": [
    "np.mean?"
   ]
  },
  {
   "cell_type": "code",
   "execution_count": 86,
   "metadata": {},
   "outputs": [
    {
     "data": {
      "text/plain": [
       "16.45807598039216"
      ]
     },
     "execution_count": 86,
     "metadata": {},
     "output_type": "execute_result"
    }
   ],
   "source": [
    "temps.mean()"
   ]
  },
  {
   "cell_type": "code",
   "execution_count": 87,
   "metadata": {},
   "outputs": [],
   "source": [
    "monthly_meanT= temps.mean(axis=0)"
   ]
  },
  {
   "cell_type": "code",
   "execution_count": 88,
   "metadata": {},
   "outputs": [
    {
     "data": {
      "text/plain": [
       "array([10.18095588, 10.19985294, 11.37625   , 13.53022059, 16.83514706,\n",
       "       21.00411765, 24.38970588, 24.82279412, 21.91948529, 17.82602941,\n",
       "       14.06558824, 11.34676471])"
      ]
     },
     "execution_count": 88,
     "metadata": {},
     "output_type": "execute_result"
    }
   ],
   "source": [
    "monthly_meanT"
   ]
  },
  {
   "cell_type": "code",
   "execution_count": 89,
   "metadata": {},
   "outputs": [],
   "source": [
    "anual_meanT= temps.mean(axis=1)"
   ]
  },
  {
   "cell_type": "code",
   "execution_count": 90,
   "metadata": {},
   "outputs": [
    {
     "data": {
      "text/plain": [
       "array([15.31583333, 15.09333333, 15.0325    , 14.88833333, 15.09583333,\n",
       "       14.91583333, 15.25916667, 15.54333333, 14.99166667, 15.01083333,\n",
       "       14.47333333, 14.90166667, 15.245     , 15.11583333, 15.08833333,\n",
       "       15.40666667, 14.77666667, 15.25916667, 15.15      , 15.10416667,\n",
       "       14.83333333, 15.01      , 15.23916667, 14.8475    , 15.17166667,\n",
       "       15.30916667, 15.365     , 15.19916667, 15.22916667, 15.70833333,\n",
       "       15.225     , 15.38333333, 15.74583333, 15.52583333, 15.72916667,\n",
       "       15.42916667, 15.50666667, 15.645     , 15.60666667, 15.65166667,\n",
       "       15.65916667, 15.8175    , 15.67166667, 15.5475    , 15.41583333,\n",
       "       15.4025    , 15.45833333, 15.79833333, 15.635     , 15.84416667,\n",
       "       15.73333333, 15.41833333, 16.18583333, 15.435     , 15.6575    ,\n",
       "       16.38166667, 15.95583333, 15.79166667, 16.215     , 15.35166667,\n",
       "       15.5025    , 16.09333333, 15.73      , 16.03583333, 16.17333333,\n",
       "       15.6775    , 16.04416667, 16.22333333, 16.25583333, 16.3825    ,\n",
       "       16.26916667, 16.21083333, 16.58416667, 16.22083333, 16.7025    ,\n",
       "       16.30666667, 16.43916667, 16.50166667, 16.60833333, 16.5325    ,\n",
       "       16.61      , 16.47166667, 16.735     , 16.4275    , 16.75583333,\n",
       "       17.29583333, 16.485     , 17.19916667, 17.38916667, 17.005     ,\n",
       "       16.925     , 17.26416667, 17.28083333, 17.095     , 17.69083333,\n",
       "       17.69583333, 17.30083333, 17.105     , 17.0325    , 17.26583333,\n",
       "       17.22333333, 17.36666667, 17.59166667, 17.70666667, 17.62083333,\n",
       "       18.21333333, 17.43083333, 17.6725    , 17.57416667, 17.6025    ,\n",
       "       17.925     , 17.895     , 17.8625    , 17.51333333, 17.8875    ,\n",
       "       17.8925    , 18.12916667, 17.85166667, 18.03583333, 18.26833333,\n",
       "       18.34833333, 18.44416667, 18.02583333, 18.165     , 17.91083333,\n",
       "       18.33      , 18.31166667, 18.68333333, 18.72416667, 18.51833333,\n",
       "       18.59666667, 18.32416667, 18.3625    , 18.685     , 18.5425    ,\n",
       "       18.13416667])"
      ]
     },
     "execution_count": 90,
     "metadata": {},
     "output_type": "execute_result"
    }
   ],
   "source": [
    "anual_meanT"
   ]
  },
  {
   "cell_type": "markdown",
   "metadata": {},
   "source": [
    "### Exercise (1.3): Get the maximum and minimum monthly temperatures for year 2000 and at what months did these temperatures occur."
   ]
  },
  {
   "cell_type": "code",
   "execution_count": 91,
   "metadata": {},
   "outputs": [
    {
     "data": {
      "text/plain": [
       "2000.0"
      ]
     },
     "execution_count": 91,
     "metadata": {},
     "output_type": "execute_result"
    }
   ],
   "source": [
    "years[39]"
   ]
  },
  {
   "cell_type": "code",
   "execution_count": 92,
   "metadata": {},
   "outputs": [],
   "source": [
    "T_2000_min= temps[39, :].min()"
   ]
  },
  {
   "cell_type": "code",
   "execution_count": 93,
   "metadata": {},
   "outputs": [
    {
     "name": "stdout",
     "output_type": "stream",
     "text": [
      "9.47\n"
     ]
    }
   ],
   "source": [
    "print(T_2000_min)"
   ]
  },
  {
   "cell_type": "code",
   "execution_count": 94,
   "metadata": {},
   "outputs": [],
   "source": [
    "T_2000_month_min= temps[39, :].argmin()"
   ]
  },
  {
   "cell_type": "code",
   "execution_count": 95,
   "metadata": {},
   "outputs": [],
   "source": [
    "T_2000_month_max= temps[39, :].argmax()"
   ]
  },
  {
   "cell_type": "code",
   "execution_count": 96,
   "metadata": {},
   "outputs": [
    {
     "name": "stdout",
     "output_type": "stream",
     "text": [
      "The month with the minimun temperature in 2000 is January\n",
      "The month with the maximun temperature in 2000 is July\n"
     ]
    }
   ],
   "source": [
    "print('The month with the minimun temperature in 2000 is', month[T_2000_month_min])\n",
    "print('The month with the maximun temperature in 2000 is', month[T_2000_month_max])"
   ]
  }
 ],
 "metadata": {
  "kernelspec": {
   "display_name": "Python 3",
   "language": "python",
   "name": "python3"
  },
  "language_info": {
   "codemirror_mode": {
    "name": "ipython",
    "version": 3
   },
   "file_extension": ".py",
   "mimetype": "text/x-python",
   "name": "python",
   "nbconvert_exporter": "python",
   "pygments_lexer": "ipython3",
   "version": "3.8.5"
  }
 },
 "nbformat": 4,
 "nbformat_minor": 4
}
