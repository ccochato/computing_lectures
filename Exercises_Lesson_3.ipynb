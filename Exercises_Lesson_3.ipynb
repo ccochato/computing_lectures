{
 "cells": [
  {
   "cell_type": "markdown",
   "metadata": {},
   "source": [
    "# Exercises Lesson 3"
   ]
  },
  {
   "cell_type": "markdown",
   "metadata": {},
   "source": [
    "Name: Carlos Cocha"
   ]
  },
  {
   "cell_type": "code",
   "execution_count": 1,
   "metadata": {},
   "outputs": [],
   "source": [
    "import numpy as np"
   ]
  },
  {
   "cell_type": "markdown",
   "metadata": {},
   "source": [
    "###  3.1: Prepare a loop such that given when it is given as an input a string variable it produces as output another string variable equal to the first string in reversed order, e.g. a = \"abcd\" and reverseda = \"dcba\"."
   ]
  },
  {
   "cell_type": "code",
   "execution_count": 2,
   "metadata": {},
   "outputs": [],
   "source": [
    "string_1 ='Hi world, this is the exercise 3.1'"
   ]
  },
  {
   "cell_type": "code",
   "execution_count": 3,
   "metadata": {},
   "outputs": [
    {
     "name": "stdout",
     "output_type": "stream",
     "text": [
      "1.3 esicrexe eht si siht ,dlrow iH\n"
     ]
    }
   ],
   "source": [
    "string_2=''\n",
    "for i in range(len(string_1)):\n",
    "    string_2 += string_1[-i-1]\n",
    "print(string_2)"
   ]
  },
  {
   "cell_type": "markdown",
   "metadata": {},
   "source": [
    "### Exercise 3.2: Use a loop to convert the string \"Testing loops and strings…\" into another string, changing spaces into \"_\" (underscore)."
   ]
  },
  {
   "cell_type": "code",
   "execution_count": 4,
   "metadata": {},
   "outputs": [],
   "source": [
    "string_3 = \"Testing loops and strings…\""
   ]
  },
  {
   "cell_type": "code",
   "execution_count": 5,
   "metadata": {},
   "outputs": [
    {
     "name": "stdout",
     "output_type": "stream",
     "text": [
      "Testing_loops_and_strings…\n"
     ]
    }
   ],
   "source": [
    "string_4 = ''\n",
    "for i in range(len(string_3)):\n",
    "    if string_3[i] == ' ':\n",
    "        string_4 += '_'\n",
    "    else:\n",
    "        string_4 += string_3[i]\n",
    "print(string_4)\n",
    "    "
   ]
  },
  {
   "cell_type": "markdown",
   "metadata": {},
   "source": [
    "### Exercise 3.3: Given the list AA = [1.0, -2.0, 3.0, 5.5, 0.3] and considering that these are the values of the coefficients for a polynomial Px = AA[0] + AA[1]*x + ... + AA[n]*x**n, prepare a loop that computes the polynomial value for a given independent variable x value. For example, in the given case Px = 7.8 for x = 1."
   ]
  },
  {
   "cell_type": "code",
   "execution_count": 6,
   "metadata": {},
   "outputs": [],
   "source": [
    "AA = [1.0, -2.0, 3.0, 5.5, 0.3]\n",
    "x=1"
   ]
  },
  {
   "cell_type": "code",
   "execution_count": 7,
   "metadata": {},
   "outputs": [
    {
     "name": "stdout",
     "output_type": "stream",
     "text": [
      "7.8\n"
     ]
    }
   ],
   "source": [
    "Px=0\n",
    "for i in range(len(AA)):\n",
    "    Px += AA[i]*(x)**i\n",
    "print(Px)"
   ]
  },
  {
   "cell_type": "markdown",
   "metadata": {},
   "source": [
    "### Exercise 3.4: Compute for the loaded temperature dataset the average seasonal temperatures and gives as a results a Python list with these temperatures."
   ]
  },
  {
   "cell_type": "code",
   "execution_count": 8,
   "metadata": {},
   "outputs": [],
   "source": [
    "metdata_orig = np.loadtxt(fname='/home/nucphys/Downloads/ISP/Python/TData/T_Alicante_EM.csv', delimiter=',', skiprows=1) \n",
    "temp_data = metdata_orig[:,1:]\n",
    "years=metdata_orig[:,0]"
   ]
  },
  {
   "cell_type": "code",
   "execution_count": 20,
   "metadata": {},
   "outputs": [],
   "source": [
    "months=['January', 'February', 'March', 'April', 'May', 'June', 'July', 'August', 'September', 'October','November', 'December']\n",
    "seasons = ['Winter', 'Spring','Summer','Autumn']"
   ]
  },
  {
   "cell_type": "code",
   "execution_count": 10,
   "metadata": {},
   "outputs": [
    {
     "name": "stdout",
     "output_type": "stream",
     "text": [
      "The Winter average temperature is 37.33 degrees Celsius.\n",
      "The Spring average temperature is 49.38 degrees Celsius.\n",
      "The Summer average temperature is 74.65 degrees Celsius.\n",
      "The Autumn average temperature is 59.24 degrees Celsius.\n"
     ]
    }
   ],
   "source": [
    "j=0\n",
    "for i in range(len(seasons)):\n",
    "    average = 0\n",
    "    while j>=3*i and j<3*(i+1):\n",
    "        average += temp_data[:,j-1]\n",
    "        j+=1\n",
    "    print('The',seasons[i], 'average temperature is', round(np.mean(average),2), 'degrees Celsius.')\n",
    "        "
   ]
  },
  {
   "cell_type": "markdown",
   "metadata": {},
   "source": [
    "### Exercise 3.5: Build a code that, for a given month and considering the loaded temperature dataset, finds the mean and minimum temperature values for the selected month and then it builds a Python list with the years that have an average temperature for the selected month that is less than the average value of the minimum and mean temperature."
   ]
  },
  {
   "cell_type": "code",
   "execution_count": 60,
   "metadata": {},
   "outputs": [
    {
     "name": "stdout",
     "output_type": "stream",
     "text": [
      "[1961.0, 1962.0, 1963.0, 1964.0, 1965.0, 1966.0, 1967.0, 1969.0, 1970.0, 1971.0, 1972.0, 1973.0, 1974.0, 1975.0, 1976.0, 1977.0, 1978.0, 1979.0, 1980.0, 1981.0, 1982.0, 1983.0, 1984.0, 1985.0, 1986.0, 1987.0, 1988.0, 1989.0, 1990.0, 1991.0, 1992.0, 1995.0, 1996.0, 1998.0, 1999.0, 2000.0, 2003.0, 2007.0, 2014.0]\n"
     ]
    }
   ],
   "source": [
    "month='October' #Follow the same input sctructure: Xxxx..\n",
    "index=months.index(month)\n",
    "average= temp_data[:,index].mean()\n",
    "minimum = temp_data[:,index].min()\n",
    "lista = []\n",
    "for i in range(np.shape(temp_data)[0]):\n",
    "    if temp_data[i,:].mean()<average and temp_data[i,:].mean()<minimum:\n",
    "        lista.append(years[i]) \n",
    "        #print('The year is', years[i])\n",
    "if len(lista)==0:\n",
    "    print(\"Any year fullfil the requirenments\")\n",
    "print(lista)\n",
    "    "
   ]
  },
  {
   "cell_type": "code",
   "execution_count": null,
   "metadata": {},
   "outputs": [],
   "source": []
  }
 ],
 "metadata": {
  "kernelspec": {
   "display_name": "Python 3",
   "language": "python",
   "name": "python3"
  },
  "language_info": {
   "codemirror_mode": {
    "name": "ipython",
    "version": 3
   },
   "file_extension": ".py",
   "mimetype": "text/x-python",
   "name": "python",
   "nbconvert_exporter": "python",
   "pygments_lexer": "ipython3",
   "version": "3.8.5"
  }
 },
 "nbformat": 4,
 "nbformat_minor": 4
}
